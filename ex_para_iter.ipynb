{
 "cells": [
  {
   "cell_type": "markdown",
   "metadata": {},
   "source": [
    "# A Guided Tour of Ray Core: Parallel Iterators"
   ]
  },
  {
   "cell_type": "markdown",
   "metadata": {},
   "source": [
    "[*Parallel Iterators*](https://docs.ray.io/en/latest/iter.html) provide a simple though powerful API for data ingest and stream processing, where transformations are based on method chaining.\n",
    "\n",
    "Parallel iterators get partitioned into *data shards*, and Ray creates a worker (an *actor*) to produces the data for each shard.\n",
    "Evaluation is *lazy*, i.e., only executed when the application calls `next()` to fetch the next item in a sequence.\n",
    "\n",
    "Parallel iterators are fully serializable, so they can be passed to remote tasks and actors.\n",
    "In effect, these can be used to operate over infinite sequences of items, with the processing distributed across a cluster.\n",
    "\n",
    "API reference: <https://docs.ray.io/en/latest/iter.html#module-ray.util.iter>\n",
    "\n",
    "---"
   ]
  },
  {
   "cell_type": "markdown",
   "metadata": {},
   "source": [
    "First, let's start Ray…"
   ]
  },
  {
   "cell_type": "code",
   "execution_count": 1,
   "metadata": {},
   "outputs": [
    {
     "name": "stderr",
     "output_type": "stream",
     "text": [
      "File descriptor limit 256 is too low for production servers and may result in connection errors. At least 8192 is recommended. --- Fix with 'ulimit -n 8192'\n"
     ]
    },
    {
     "data": {
      "text/plain": [
       "{'node_ip_address': '192.168.1.244',\n",
       " 'raylet_ip_address': '192.168.1.244',\n",
       " 'redis_address': '192.168.1.244:6379',\n",
       " 'object_store_address': '/tmp/ray/session_2021-02-25_08-05-25_898796_8385/sockets/plasma_store',\n",
       " 'raylet_socket_name': '/tmp/ray/session_2021-02-25_08-05-25_898796_8385/sockets/raylet',\n",
       " 'webui_url': '127.0.0.1:8265',\n",
       " 'session_dir': '/tmp/ray/session_2021-02-25_08-05-25_898796_8385',\n",
       " 'metrics_export_port': 64966,\n",
       " 'node_id': '18d3c90877bae0dec24d2936dac756c6978ecc3f'}"
      ]
     },
     "execution_count": 1,
     "metadata": {},
     "output_type": "execute_result"
    }
   ],
   "source": [
    "from icecream import ic\n",
    "import logging\n",
    "import ray\n",
    "\n",
    "ray.init(\n",
    "    ignore_reinit_error=True,\n",
    "    logging_level=logging.ERROR,\n",
    ")"
   ]
  },
  {
   "cell_type": "markdown",
   "metadata": {},
   "source": [
    "## Parallel Iterators"
   ]
  },
  {
   "cell_type": "markdown",
   "metadata": {},
   "source": [
    "We'll create a parallel iterator from the sequence `items`, using 2 worker actors:"
   ]
  },
  {
   "cell_type": "code",
   "execution_count": 2,
   "metadata": {},
   "outputs": [
    {
     "data": {
      "text/plain": [
       "ParallelIterator[from_items[int, 5, shards=2]]"
      ]
     },
     "execution_count": 2,
     "metadata": {},
     "output_type": "execute_result"
    }
   ],
   "source": [
    "items = [1, 2, 3, 4, 5]\n",
    "\n",
    "iter1 = ray.util.iter.from_items(items, num_shards=2)\n",
    "iter1"
   ]
  },
  {
   "cell_type": "markdown",
   "metadata": {},
   "source": [
    "This `iter1` object can now be passed (i.e., serialized) to remote tasks and remote methods.\n",
    "\n",
    "To read elements from a parallel iterator, it can be converted to a [`LocalIterator`](https://docs.ray.io/en/latest/iter.html#ray.util.iter.LocalIterator) using two approaches.\n",
    "\n",
    "Calling [`gather_sync()`](https://docs.ray.io/en/latest/iter.html#ray.util.iter.ParallelIterator.gather_sync)\n",
    "returns a local iterable for *synchronous* iteration.\n",
    "In other words, next items will be fetched from the shards on-demand as the application steps through the iterator sequence."
   ]
  },
  {
   "cell_type": "code",
   "execution_count": 3,
   "metadata": {},
   "outputs": [
    {
     "data": {
      "text/plain": [
       "LocalIterator[ParallelIterator[from_items[int, 5, shards=2]].gather_sync()]"
      ]
     },
     "execution_count": 3,
     "metadata": {},
     "output_type": "execute_result"
    }
   ],
   "source": [
    "local_iter1 = iter1.gather_sync()\n",
    "local_iter1"
   ]
  },
  {
   "cell_type": "code",
   "execution_count": 4,
   "metadata": {},
   "outputs": [
    {
     "name": "stderr",
     "output_type": "stream",
     "text": [
      "ic| item: 1\n",
      "ic| item: 2\n",
      "ic| item: 3\n",
      "ic| item: 4\n",
      "ic| item: 5\n"
     ]
    }
   ],
   "source": [
    "for item in local_iter1:\n",
    "    ic(item)"
   ]
  },
  {
   "cell_type": "markdown",
   "metadata": {},
   "source": [
    "When applying a function to the sequence (i.e., some kind of transformation) a parallel iterator provides semantic guarantees for *fetch ordering*. In other words, the transformation is guaranteed to get applied to each element of the sequence before the next item is fetched from the source actor.\n",
    "For example, this can be useful if you need to update the source actor between iterator steps.\n",
    "\n",
    "To illustrate a simple case of how to apply a function, first we'll define a class to perform some calculation:"
   ]
  },
  {
   "cell_type": "code",
   "execution_count": 5,
   "metadata": {},
   "outputs": [],
   "source": [
    "class CumulativeSum:\n",
    "    def __init__ (self):\n",
    "        self.total = 0\n",
    "\n",
    "    def __call__ (self, x):\n",
    "        self.total += x\n",
    "        return (self.total, x)"
   ]
  },
  {
   "cell_type": "markdown",
   "metadata": {},
   "source": [
    "Now apply that class to the sequence of items, using the [`for_each()`](https://docs.ray.io/en/latest/iter.html#ray.util.iter.ParallelIterator.for_each) method:"
   ]
  },
  {
   "cell_type": "code",
   "execution_count": 6,
   "metadata": {},
   "outputs": [
    {
     "name": "stdout",
     "output_type": "stream",
     "text": [
      "(1, 1)\n",
      "(2, 2)\n",
      "(4, 3)\n",
      "(6, 4)\n",
      "(9, 5)\n"
     ]
    }
   ],
   "source": [
    "for x in iter1.for_each(CumulativeSum()).gather_sync():\n",
    "    print(x)"
   ]
  },
  {
   "cell_type": "markdown",
   "metadata": {},
   "source": [
    "Alternatively, calling [`gather_async()`](https://docs.ray.io/en/latest/iter.html#ray.util.iter.ParallelIterator.gather_async)\n",
    "returns a local iterable for *asynchronous* iteration.\n",
    "In other words, next items will be fetched from the shards asynchronously as soon as the previous item gets computed.\n",
    "In this case, the fetch ordering only applies per shard."
   ]
  },
  {
   "cell_type": "markdown",
   "metadata": {},
   "source": [
    "Another way to access a parallel iterator is as a collection of its shards:"
   ]
  },
  {
   "cell_type": "code",
   "execution_count": 7,
   "metadata": {},
   "outputs": [
    {
     "data": {
      "text/plain": [
       "[LocalIterator[from_items[int, 5, shards=2].shard[0]],\n",
       " LocalIterator[from_items[int, 5, shards=2].shard[1]]]"
      ]
     },
     "execution_count": 7,
     "metadata": {},
     "output_type": "execute_result"
    }
   ],
   "source": [
    "iter1.shards()"
   ]
  },
  {
   "cell_type": "code",
   "execution_count": 8,
   "metadata": {},
   "outputs": [
    {
     "name": "stderr",
     "output_type": "stream",
     "text": [
      "ic| shard: LocalIterator[from_items[int, 5, shards=2].shard[0]]\n",
      "ic| item: 1\n",
      "ic| item: 3\n",
      "ic| item: 5\n",
      "ic| shard: LocalIterator[from_items[int, 5, shards=2].shard[1]]\n",
      "ic| item: 2\n",
      "ic| item: 4\n"
     ]
    }
   ],
   "source": [
    "for shard in iter1.shards():\n",
    "    ic(shard)\n",
    "    \n",
    "    for item in shard:\n",
    "        ic(item)"
   ]
  },
  {
   "cell_type": "markdown",
   "metadata": {},
   "source": [
    "Note that each shard should only be read by one process at a time."
   ]
  },
  {
   "cell_type": "markdown",
   "metadata": {},
   "source": [
    "As an example, let's iterate through the JSON source for the Jupyter notebooks in this repo as if this were a streaming input source.\n",
    "\n",
    "We'll filter to get the text in markdown cells, evaluated in batches – which creates a sliding window across the input stream:"
   ]
  },
  {
   "cell_type": "code",
   "execution_count": 9,
   "metadata": {
    "scrolled": true
   },
   "outputs": [
    {
     "data": {
      "text/plain": [
       "ParallelIterator[from_items[PosixPath, 6, shards=3].for_each().for_each().flatten().for_each().flatten().for_each().batch(20).for_each()]"
      ]
     },
     "execution_count": 9,
     "metadata": {},
     "output_type": "execute_result"
    }
   ],
   "source": [
    "from pathlib import Path\n",
    "import numpy as np\n",
    "import json\n",
    "\n",
    "nb_items = list(Path(\".\").glob(\"ex_*.ipynb\"))\n",
    "window_width = 20\n",
    "\n",
    "iter2 = (\n",
    "    ray.util.iter.from_items(nb_items, num_shards=3)\n",
    "        .for_each(lambda f: json.load(open(f)))\n",
    "        .for_each(lambda nb: nb[\"cells\"])\n",
    "        .flatten()\n",
    "        .for_each(lambda cell: cell[\"source\"] if cell[\"cell_type\"] == \"markdown\" else [])\n",
    "        .flatten()\n",
    "        .for_each(lambda line: 1 if \"Ray\" in line else 0)\n",
    "        .batch(window_width)\n",
    "        .for_each(np.mean)\n",
    ")\n",
    "\n",
    "iter2"
   ]
  },
  {
   "cell_type": "markdown",
   "metadata": {},
   "source": [
    "Now calculate the probability of the term `Ray` occurring within the lines in each batch:"
   ]
  },
  {
   "cell_type": "code",
   "execution_count": 10,
   "metadata": {},
   "outputs": [
    {
     "name": "stderr",
     "output_type": "stream",
     "text": [
      "ic| freq: 0.2\n",
      "ic| freq: 0.2\n",
      "ic| freq: 0.2\n",
      "ic| freq: 0.2\n",
      "ic| freq: 0.05\n",
      "ic| freq: 0.09090909090909091\n",
      "ic| freq: 0.0\n",
      "ic| freq: 0.09090909090909091\n"
     ]
    }
   ],
   "source": [
    "for freq in iter2.gather_async():\n",
    "    ic(freq)"
   ]
  },
  {
   "cell_type": "markdown",
   "metadata": {},
   "source": [
    "Let's rework this to show an example of passing iterator shards to remote functions.\n",
    "We'll define a remote function `nb_word_count` to tally *word count* among the markdown cells in each notebook:"
   ]
  },
  {
   "cell_type": "code",
   "execution_count": 11,
   "metadata": {},
   "outputs": [],
   "source": [
    "from collections import defaultdict\n",
    "\n",
    "@ray.remote\n",
    "def nb_word_count (shard):\n",
    "    wc = defaultdict(int)\n",
    "    punct = \"\"\"'`<>[](){}*.,:…-'\"\"\"\n",
    "    \n",
    "    for nb_path in shard:\n",
    "        with open(nb_path) as f:\n",
    "            nb = json.load(f)\n",
    "            for cell in nb[\"cells\"]:\n",
    "                if cell[\"cell_type\"] == \"markdown\":\n",
    "                    for line in cell[\"source\"]:\n",
    "                        for token in line.strip(\"# \").lower().split():\n",
    "                            token = token.strip(punct)\n",
    "                            wc[token] += 1\n",
    "\n",
    "    return wc"
   ]
  },
  {
   "cell_type": "markdown",
   "metadata": {},
   "source": [
    "Now pass each of the shards to a remote function:"
   ]
  },
  {
   "cell_type": "code",
   "execution_count": 12,
   "metadata": {
    "scrolled": true
   },
   "outputs": [],
   "source": [
    "nb_items = list(Path(\".\").glob(\"ex_*.ipynb\"))\n",
    "\n",
    "iter3 = ray.util.iter.from_items(nb_items, num_shards=3)\n",
    "\n",
    "work = [nb_word_count.remote(shard) for shard in iter3.shards()]"
   ]
  },
  {
   "cell_type": "markdown",
   "metadata": {},
   "source": [
    "To show the end results, we'll aggregate the word counts calculated from each shard:"
   ]
  },
  {
   "cell_type": "code",
   "execution_count": 13,
   "metadata": {},
   "outputs": [],
   "source": [
    "wc_sum = defaultdict(int)\n",
    "\n",
    "for wc in ray.get(work):\n",
    "    for token, count in wc.items():\n",
    "        wc_sum[token] += count"
   ]
  },
  {
   "cell_type": "markdown",
   "metadata": {},
   "source": [
    "Then list the tokens ranked in descending order:"
   ]
  },
  {
   "cell_type": "code",
   "execution_count": 14,
   "metadata": {
    "scrolled": true
   },
   "outputs": [
    {
     "name": "stderr",
     "output_type": "stream",
     "text": [
      "ic| token: 'a', count: 53\n",
      "ic| token: 'the', count: 52\n",
      "ic| token: 'to', count: 35\n",
      "ic| token: 'of', count: 22\n",
      "ic| token: 'ray', count: 20\n",
      "ic| token: 'this', count: 20\n",
      "ic| token: 'remote', count: 19\n",
      "ic| token: 'for', count: 18\n",
      "ic| token: 'in', count: 18\n",
      "ic| token: 'example', count: 12\n",
      "ic| token: 'parallel', count: 12\n",
      "ic| token: \"let's\", count: 11\n",
      "ic| token: 'function', count: 11\n",
      "ic| token: 'be', count: 11\n",
      "ic| token: 'and', count: 10\n",
      "ic| token: \"we'll\", count: 10\n",
      "ic| token: 'first', count: 9\n",
      "ic| token: 'is', count: 9\n",
      "ic| token: '', count: 8\n",
      "ic| token: 'start', count: 8\n",
      "ic| token: 'an', count: 8\n",
      "ic| token: 'can', count: 8\n",
      "ic| token: 'from', count: 8\n",
      "ic| token: 'use', count: 7\n",
      "ic| token: 'on', count: 7\n",
      "ic| token: 'each', count: 7\n",
      "ic| token: 'iterator', count: 7\n",
      "ic| token: 'using', count: 7\n",
      "ic| token: 'object', count: 7\n",
      "ic| token: 'now', count: 7\n",
      "ic| token: 'as', count: 7\n",
      "ic| token: 'guided', count: 6\n",
      "ic| token: 'tour', count: 6\n",
      "ic| token: 'core', count: 6\n",
      "ic| token: 'that', count: 6\n",
      "ic| token: 'set', count: 6\n",
      "ic| token: 'shards', count: 6\n",
      "ic| token: 'actor', count: 6\n",
      "ic| token: 'next', count: 6\n",
      "ic| token: 'sequence', count: 6\n",
      "ic| token: 'it', count: 5\n",
      "ic| token: 'python', count: 5\n",
      "ic| token: 'data', count: 5\n",
      "ic| token: 'get', count: 5\n",
      "ic| token: 'items', count: 5\n",
      "ic| token: 'will', count: 5\n",
      "ic| token: 'define', count: 5\n",
      "ic| token: 'class', count: 5\n",
      "ic| token: 'then', count: 5\n",
      "ic| token: 'by', count: 4\n",
      "ic| token: 'actors', count: 4\n",
      "ic| token: 'up', count: 4\n",
      "ic| token: 'create', count: 4\n",
      "ic| token: 'iterators', count: 4\n",
      "ic| token: 'shard', count: 4\n",
      "ic| token: 'i.e', count: 4\n",
      "ic| token: 'with', count: 4\n",
      "ic| token: 'source', count: 4\n",
      "ic| token: 'functions', count: 4\n",
      "ic| token: 'decorator', count: 4\n",
      "ic| token: 'pool', count: 3\n",
      "ic| token: 'distributed', count: 3\n",
      "ic| token: 'regular', count: 3\n",
      "ic| token: 'tasks', count: 3\n",
      "ic| token: 'across', count: 3\n",
      "ic| token: 'are', count: 3\n",
      "ic| token: 'method', count: 3\n",
      "ic| token: 'worker', count: 3\n",
      "ic| token: 'only', count: 3\n",
      "ic| token: 'when', count: 3\n",
      "ic| token: 'fetch', count: 3\n",
      "ic| token: 'item', count: 3\n",
      "ic| token: 'cluster', count: 3\n",
      "ic| token: 'returns', count: 3\n",
      "ic| token: 'local', count: 3\n",
      "ic| token: 'other', count: 3\n",
      "ic| token: 'words', count: 3\n",
      "ic| token: 'fetched', count: 3\n",
      "ic| token: 'through', count: 3\n",
      "ic| token: 'illustrate', count: 3\n",
      "ic| token: 'joblib', count: 3\n",
      "ic| token: 'backend', count: 3\n",
      "ic| token: 'see', count: 3\n",
      "ic| token: '@ray.remote', count: 3\n",
      "ic| token: 'pattern', count: 3\n",
      "ic| token: 'references', count: 3\n",
      "ic| token: 'objects', count: 3\n",
      "ic| token: 'multiprocessing', count: 2\n",
      "ic| token: 'easy', count: 2\n",
      "ic| token: 'scale', count: 2\n",
      "ic| token: 'existing', count: 2\n",
      "ic| token: 'applications', count: 2\n",
      "ic| token: 'following', count: 2\n",
      "ic| token: 'just', count: 2\n",
      "ic| token: 'simple', count: 2\n",
      "ic| token: 'api', count: 2\n",
      "ic| token: 'stream', count: 2\n",
      "ic| token: 'processing', count: 2\n",
      "ic| token: 'into', count: 2\n",
      "ic| token: 'creates', count: 2\n",
      "ic| token: 'executed', count: 2\n",
      "ic| token: 'application', count: 2\n",
      "ic| token: 'calls', count: 2\n",
      "ic| token: 'so', count: 2\n",
      "ic| token: 'passed', count: 2\n",
      "ic| token: 'these', count: 2\n",
      "ic| token: 'reference', count: 2\n",
      "ic| token: 'read', count: 2\n",
      "ic| token: 'calling', count: 2\n",
      "ic| token: 'iterable', count: 2\n",
      "ic| token: 'iteration', count: 2\n",
      "ic| token: 'steps', count: 2\n",
      "ic| token: 'some', count: 2\n",
      "ic| token: 'transformation', count: 2\n",
      "ic| token: 'provides', count: 2\n",
      "ic| token: 'ordering', count: 2\n",
      "ic| token: 'if', count: 2\n",
      "ic| token: 'you', count: 2\n",
      "ic| token: 'case', count: 2\n",
      "ic| token: 'apply', count: 2\n",
      "ic| token: 'gets', count: 2\n",
      "ic| token: 'access', count: 2\n",
      "ic| token: 'process', count: 2\n",
      "ic| token: 'iterate', count: 2\n",
      "ic| token: 'input', count: 2\n",
      "ic| token: 'markdown', count: 2\n",
      "ic| token: 'cells', count: 2\n",
      "ic| token: 'which', count: 2\n",
      "ic| token: 'show', count: 2\n",
      "ic| token: 'word', count: 2\n",
      "ic| token: 'parallelize', count: 2\n",
      "ic| token: 'parallelized', count: 2\n",
      "ic| token: 'processes', count: 2\n",
      "ic| token: 'running', count: 2\n",
      "ic| token: 'hyper-parameter', count: 2\n",
      "ic| token: 'search', count: 2\n",
      "ic| token: 'hyper-parameters', count: 2\n",
      "ic| token: 'cross-validation', count: 2\n",
      "ic| token: 'iterations', count: 2\n",
      "ic| token: 'result', count: 2\n",
      "ic| token: 'involve', count: 2\n",
      "ic| token: 'implements', count: 2\n",
      "ic| token: 'task', count: 2\n",
      "ic| token: 'properties', count: 2\n",
      "ic| token: 'return', count: 2\n",
      "ic| token: 'multiple', count: 2\n",
      "ic| token: 'classes', count: 2\n",
      "ic| token: 'multiprocessing.pool*](https://docs.ray.io/en/latest/multiprocessing.html'\n",
      "    count: 1\n",
      "ic| token: 'make', count: 1\n",
      "ic| token: 'multiprocessing.pool`](https://docs.python.org/3/library/multiprocessing.html'\n",
      "    count: 1\n",
      "ic| token: 'leveraging', count: 1\n",
      "ic| token: 'distribute', count: 1\n",
      "ic| token: 'iterators*](https://docs.ray.io/en/latest/iter.html'\n",
      "    count: 1\n",
      "ic| token: 'provide', count: 1\n",
      "ic| token: 'though', count: 1\n",
      "ic| token: 'powerful', count: 1\n",
      "ic| token: 'ingest', count: 1\n",
      "ic| token: 'where', count: 1\n",
      "ic| token: 'transformations', count: 1\n",
      "ic| token: 'based', count: 1\n",
      "ic| token: 'chaining', count: 1\n",
      "ic| token: 'partitioned', count: 1\n",
      "ic| token: 'produces', count: 1\n",
      "ic| token: 'evaluation', count: 1\n",
      "ic| token: 'lazy', count: 1\n",
      "ic| token: 'fully', count: 1\n",
      "ic| token: 'serializable', count: 1\n",
      "ic| token: 'they', count: 1\n",
      "ic| token: 'effect', count: 1\n",
      "ic| token: 'used', count: 1\n",
      "ic| token: 'operate', count: 1\n",
      "ic| token: 'over', count: 1\n",
      "ic| token: 'infinite', count: 1\n",
      "ic| token: 'sequences', count: 1\n",
      "ic| token: 'https://docs.ray.io/en/latest/iter.html#module-ray.util.iter'\n",
      "    count: 1\n",
      "ic| token: '2', count: 1\n",
      "ic| token: 'iter1', count: 1\n",
      "ic| token: 'serialized', count: 1\n",
      "ic| token: 'methods', count: 1\n",
      "ic| token: 'elements', count: 1\n",
      "ic| token: 'converted', count: 1\n",
      "ic| token: 'localiterator`](https://docs.ray.io/en/latest/iter.html#ray.util.iter.localiterator'\n",
      "    count: 1\n",
      "ic| token: 'two', count: 1\n",
      "ic| token: 'approaches', count: 1\n",
      "ic| token: 'gather_sync()`](https://docs.ray.io/en/latest/iter.html#ray.util.iter.paralleliterator.gather_sync'\n",
      "    count: 1\n",
      "ic| token: 'synchronous', count: 1\n",
      "ic| token: 'on-demand', count: 1\n",
      "ic| token: 'applying', count: 1\n",
      "ic| token: 'kind', count: 1\n",
      "ic| token: 'semantic', count: 1\n",
      "ic| token: 'guarantees', count: 1\n",
      "ic| token: 'guaranteed', count: 1\n",
      "ic| token: 'applied', count: 1\n",
      "ic| token: 'element', count: 1\n",
      "ic| token: 'before', count: 1\n",
      "ic| token: 'useful', count: 1\n",
      "ic| token: 'need', count: 1\n",
      "ic| token: 'update', count: 1\n",
      "ic| token: 'between', count: 1\n",
      "ic| token: 'how', count: 1\n",
      "ic| token: 'perform', count: 1\n",
      "ic| token: 'calculation', count: 1\n",
      "ic| token: 'for_each()`](https://docs.ray.io/en/latest/iter.html#ray.util.iter.paralleliterator.for_each'\n",
      "    count: 1\n",
      "ic| token: 'alternatively', count: 1\n",
      "ic| token: 'gather_async()`](https://docs.ray.io/en/latest/iter.html#ray.util.iter.paralleliterator.gather_async'\n",
      "    count: 1\n",
      "ic| token: 'asynchronous', count: 1\n",
      "ic| token: 'asynchronously', count: 1\n",
      "ic| token: 'soon', count: 1\n",
      "ic| token: 'previous', count: 1\n",
      "ic| token: 'computed', count: 1\n",
      "ic| token: 'applies', count: 1\n",
      "ic| token: 'per', count: 1\n",
      "ic| token: 'another', count: 1\n",
      "ic| token: 'way', count: 1\n",
      "ic| token: 'collection', count: 1\n",
      "ic| token: 'its', count: 1\n",
      "ic| token: 'note', count: 1\n",
      "ic| token: 'should', count: 1\n",
      "ic| token: 'one', count: 1\n",
      "ic| token: 'at', count: 1\n",
      "ic| token: 'time', count: 1\n",
      "ic| token: 'json', count: 1\n",
      "ic| token: 'jupyter', count: 1\n",
      "ic| token: 'notebooks', count: 1\n",
      "ic| token: 'repo', count: 1\n",
      "ic| token: 'were', count: 1\n",
      "ic| token: 'streaming', count: 1\n",
      "ic| token: 'filter', count: 1\n",
      "ic| token: 'text', count: 1\n",
      "ic| token: 'evaluated', count: 1\n",
      "ic| token: 'batches', count: 1\n",
      "ic| token: '–', count: 1\n",
      "ic| token: 'sliding', count: 1\n",
      "ic| token: 'window', count: 1\n",
      "ic| token: 'calculate', count: 1\n",
      "ic| token: 'probability', count: 1\n",
      "ic| token: 'term', count: 1\n",
      "ic| token: 'occurring', count: 1\n",
      "ic| token: 'within', count: 1\n",
      "ic| token: 'lines', count: 1\n",
      "ic| token: 'batch', count: 1\n",
      "ic| token: 'rework', count: 1\n",
      "ic| token: 'passing', count: 1\n",
      "ic| token: 'nb_word_count', count: 1\n",
      "ic| token: 'tally', count: 1\n",
      "ic| token: 'count', count: 1\n",
      "ic| token: 'among', count: 1\n",
      "ic| token: 'notebook', count: 1\n",
      "ic| token: 'pass', count: 1\n",
      "ic| token: 'end', count: 1\n",
      "ic| token: 'results', count: 1\n",
      "ic| token: 'aggregate', count: 1\n",
      "ic| token: 'counts', count: 1\n",
      "ic| token: 'calculated', count: 1\n",
      "ic| token: 'list', count: 1\n",
      "ic| token: 'tokens', count: 1\n",
      "ic| token: 'ranked', count: 1\n",
      "ic| token: 'descending', count: 1\n",
      "ic| token: 'order', count: 1\n",
      "ic| token: 'scikit-learn*](https://docs.ray.io/en/latest/joblib.html'\n",
      "    count: 1\n",
      "ic| token: 'drop-in', count: 1\n",
      "ic| token: 'replacement', count: 1\n",
      "ic| token: 'joblib`](https://joblib.readthedocs.io/en/latest/'\n",
      "    count: 1\n",
      "ic| token: 'scikit-learn`](https://scikit-learn.org/stable/', count: 1\n",
      "ic| token: 'register', count: 1\n",
      "ic| token: 'joblib*](https://scikit-learn.org/stable/modules/generated/sklearn.utils.parallel_backend.html'\n",
      "    count: 1\n",
      "ic| token: 'scikit-learn', count: 1\n",
      "ic| token: 'instead', count: 1\n",
      "ic| token: 'makes', count: 1\n",
      "ic| token: 'single', count: 1\n",
      "ic| token: 'node', count: 1\n",
      "ic| token: 'https://docs.ray.io/en/master/joblib.html', count: 1\n",
      "ic| token: 'load', count: 1\n",
      "ic| token: 'copy', count: 1\n",
      "ic| token: 'uci', count: 1\n",
      "ic| token: 'machine', count: 1\n",
      "ic| token: 'learning', count: 1\n",
      "ic| token: \"repository's\", count: 1\n",
      "ic| token: 'hand-written', count: 1\n",
      "ic| token: 'digits', count: 1\n",
      "ic| token: 'dataset', count: 1\n",
      "ic| token: 'https://scikit-learn.org/stable/modules/generated/sklearn.datasets.load_digits.html'\n",
      "    count: 1\n",
      "ic| token: 'space', count: 1\n",
      "ic| token: 'training', count: 1\n",
      "ic| token: 'support', count: 1\n",
      "ic| token: 'vector', count: 1\n",
      "ic| token: 'machines', count: 1\n",
      "ic| token: 'model', count: 1\n",
      "ic| token: 'randomized', count: 1\n",
      "ic| token: 'optimize', count: 1\n",
      "ic| token: 'https://scikit-learn.org/stable/modules/generated/sklearn.model_selection.randomizedsearchcv.html'\n",
      "    count: 1\n",
      "ic| token: '5', count: 1\n",
      "ic| token: 'splits', count: 1\n",
      "ic| token: '10', count: 1\n",
      "ic| token: 'total', count: 1\n",
      "ic| token: '50', count: 1\n",
      "ic| token: '\"fits\"', count: 1\n",
      "ic| token: 'enough', count: 1\n",
      "ic| token: 'being', count: 1\n",
      "ic| token: 'although', count: 1\n",
      "ic| token: 'practice', count: 1\n",
      "ic| token: \"you'd\", count: 1\n",
      "ic| token: 'probably', count: 1\n",
      "ic| token: 'more', count: 1\n",
      "ic| token: 'run', count: 1\n",
      "ic| token: 'fits', count: 1\n",
      "ic| token: 'random', count: 1\n",
      "ic| token: 'optimization', count: 1\n",
      "ic| token: 'far', count: 1\n",
      "ic| token: 'what', count: 1\n",
      "ic| token: 'best', count: 1\n",
      "ic| token: 'found?', count: 1\n",
      "ic| token: 'functions*](https://docs.ray.io/en/latest/walkthrough.html#remote-functions-tasks'\n",
      "    count: 1\n",
      "ic| token: 'parallelism*](https://patterns.eecs.berkeley.edu/?page_id=208'\n",
      "    count: 1\n",
      "ic| token: 'independence', count: 1\n",
      "ic| token: 'stateless', count: 1\n",
      "ic| token: 'called', count: 1\n",
      "ic| token: 'simply', count: 1\n",
      "ic| token: 'integer', count: 1\n",
      "ic| token: 'however', count: 1\n",
      "ic| token: 'adding', count: 1\n",
      "ic| token: 'becomes', count: 1\n",
      "ic| token: 'invoke', count: 1\n",
      "ic| token: 'immediately', count: 1\n",
      "ic| token: 'ref', count: 1\n",
      "ic| token: 'future', count: 1\n",
      "ic| token: 'retrieved', count: 1\n",
      "ic| token: 'ray.get', count: 1\n",
      "ic| token: 'invocations', count: 1\n",
      "ic| token: 'happen', count: 1\n",
      "ic| token: 'all', count: 1\n",
      "ic| token: 'computation', count: 1\n",
      "ic| token: 'performed', count: 1\n",
      "ic| token: 'background', count: 1\n",
      "ic| token: 'driven', count: 1\n",
      "ic| token: \"ray's\", count: 1\n",
      "ic| token: 'internal', count: 1\n",
      "ic| token: 'event', count: 1\n",
      "ic| token: 'loop', count: 1\n",
      "ic| token: 'relatively', count: 1\n",
      "ic| token: '\"slow\"', count: 1\n",
      "ic| token: 'showing', count: 1\n",
      "ic| token: 'does', count: 1\n",
      "ic| token: 'not', count: 1\n",
      "ic| token: 'block', count: 1\n",
      "ic| token: 'patterns', count: 1\n",
      "ic| token: 'programming*](https://www.goodreads.com/book/show/85053.patterns_for_parallel_programming'\n",
      "    count: 1\n",
      "ic| token: 'timothy', count: 1\n",
      "ic| token: 'g', count: 1\n",
      "ic| token: 'mattson', count: 1\n",
      "ic| token: 'beverly', count: 1\n",
      "ic| token: 'sanders', count: 1\n",
      "ic| token: 'berna', count: 1\n",
      "ic| token: 'l', count: 1\n",
      "ic| token: 'massingill', count: 1\n",
      "ic| token: 'addison-wesley', count: 1\n",
      "ic| token: '2004', count: 1\n",
      "ic| token: 'objects*](https://docs.ray.io/en/latest/walkthrough.html#objects-in-ray'\n",
      "    count: 1\n",
      "ic| token: 'implement', count: 1\n",
      "ic| token: 'shared-memory', count: 1\n",
      "ic| token: 'store*](https://en.wikipedia.org/wiki/shared_memory'\n",
      "    count: 1\n",
      "ic| token: 'immutable', count: 1\n",
      "ic| token: 'accessed', count: 1\n",
      "ic| token: 'anywhere', count: 1\n",
      "ic| token: 'put', count: 1\n",
      "ic| token: 'store', count: 1\n",
      "ic| token: 'value', count: 1\n",
      "ic| token: 'also', count: 1\n",
      "ic| token: 'values', count: 1\n",
      "ic| token: 'timeout', count: 1\n",
      "ic| token: 'early', count: 1\n",
      "ic| token: 'blocking', count: 1\n",
      "ic| token: 'too', count: 1\n",
      "ic| token: 'long', count: 1\n",
      "ic| token: 'classes*](https://docs.ray.io/en/latest/walkthrough.html#remote-classes-actors'\n",
      "    count: 1\n",
      "ic| token: 'actor*](https://patterns.eecs.berkeley.edu/?page_id=258'\n",
      "    count: 1\n",
      "ic| token: 'stateful', count: 1\n",
      "ic| token: 'message-passing', count: 1\n",
      "ic| token: 'semantics', count: 1\n",
      "ic| token: 'counter', count: 1\n",
      "ic| token: 'call', count: 1\n",
      "ic| token: '\"a', count: 1\n",
      "ic| token: 'universal', count: 1\n",
      "ic| token: 'modular', count: 1\n",
      "ic| token: 'formalism', count: 1\n",
      "ic| token: 'artificial', count: 1\n",
      "ic| token: 'intelligence\"](https://www.ijcai.org/proceedings/73/papers/027b.pdf'\n",
      "    count: 1\n",
      "ic| token: 'carl', count: 1\n",
      "ic| token: 'hewitt', count: 1\n",
      "ic| token: 'peter', count: 1\n",
      "ic| token: 'bishop', count: 1\n",
      "ic| token: 'richard', count: 1\n",
      "ic| token: 'steiger', count: 1\n",
      "ic| token: 'ijcai', count: 1\n",
      "ic| token: '1973', count: 1\n"
     ]
    }
   ],
   "source": [
    "for token, count in sorted(wc_sum.items(), key=lambda item: item[1], reverse=True):\n",
    "    ic(token, count)"
   ]
  }
 ],
 "metadata": {
  "kernelspec": {
   "display_name": "Python 3",
   "language": "python",
   "name": "python3"
  },
  "language_info": {
   "codemirror_mode": {
    "name": "ipython",
    "version": 3
   },
   "file_extension": ".py",
   "mimetype": "text/x-python",
   "name": "python",
   "nbconvert_exporter": "python",
   "pygments_lexer": "ipython3",
   "version": "3.7.4"
  }
 },
 "nbformat": 4,
 "nbformat_minor": 4
}
