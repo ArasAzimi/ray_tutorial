{
 "cells": [
  {
   "cell_type": "markdown",
   "metadata": {},
   "source": [
    "# A Guided Tour of Ray Core: Parallel Iterators"
   ]
  },
  {
   "cell_type": "markdown",
   "metadata": {},
   "source": [
    "[*Parallel Iterators*](https://docs.ray.io/en/latest/iter.html) provide a simple yet powerful API for data ingest and stream processing, where transformations are based on method chaining.\n",
    "\n",
    "Parallel iterators get partitioned into *data shards*, and Ray creates a worker (an *actor*) to produces the data for each shard.\n",
    "Evaluation is *lazy*, i.e., only executed when the application calls `next()` to fetch the next item in a sequence.\n",
    "\n",
    "Parallel iterators are fully serializable, so they can be passed to remote tasks and actors.\n",
    "In effect, these can be used to operate over infinite sequences of items, with the processing distributed across a cluster.\n",
    "\n",
    "---"
   ]
  },
  {
   "cell_type": "markdown",
   "metadata": {},
   "source": [
    "First, let's start Ray…"
   ]
  },
  {
   "cell_type": "code",
   "execution_count": 1,
   "metadata": {},
   "outputs": [
    {
     "name": "stderr",
     "output_type": "stream",
     "text": [
      "File descriptor limit 256 is too low for production servers and may result in connection errors. At least 8192 is recommended. --- Fix with 'ulimit -n 8192'\n"
     ]
    },
    {
     "data": {
      "text/plain": [
       "{'node_ip_address': '192.168.1.65',\n",
       " 'raylet_ip_address': '192.168.1.65',\n",
       " 'redis_address': '192.168.1.65:6379',\n",
       " 'object_store_address': '/tmp/ray/session_2021-02-25_10-41-09_151464_10012/sockets/plasma_store',\n",
       " 'raylet_socket_name': '/tmp/ray/session_2021-02-25_10-41-09_151464_10012/sockets/raylet',\n",
       " 'webui_url': '127.0.0.1:8265',\n",
       " 'session_dir': '/tmp/ray/session_2021-02-25_10-41-09_151464_10012',\n",
       " 'metrics_export_port': 65309,\n",
       " 'node_id': '58a492330004964c4c23164712dd62f5c3d785fa'}"
      ]
     },
     "execution_count": 1,
     "metadata": {},
     "output_type": "execute_result"
    }
   ],
   "source": [
    "from icecream import ic\n",
    "import logging\n",
    "import ray\n",
    "\n",
    "ray.init(\n",
    "    ignore_reinit_error=True,\n",
    "    logging_level=logging.ERROR,\n",
    ")"
   ]
  },
  {
   "cell_type": "markdown",
   "metadata": {},
   "source": [
    "## Parallel Iterators"
   ]
  },
  {
   "cell_type": "markdown",
   "metadata": {},
   "source": [
    "We'll create a parallel iterator from the sequence `items`, using 2 worker actors:"
   ]
  },
  {
   "cell_type": "code",
   "execution_count": 2,
   "metadata": {},
   "outputs": [
    {
     "data": {
      "text/plain": [
       "ParallelIterator[from_items[int, 5, shards=2]]"
      ]
     },
     "execution_count": 2,
     "metadata": {},
     "output_type": "execute_result"
    }
   ],
   "source": [
    "items = [1, 2, 3, 4, 5]\n",
    "\n",
    "iter1 = ray.util.iter.from_items(items, num_shards=2)\n",
    "iter1"
   ]
  },
  {
   "cell_type": "markdown",
   "metadata": {},
   "source": [
    "This `iter1` object can now be passed (i.e., serialized) to remote tasks and remote methods.\n",
    "\n",
    "To read elements from a parallel iterator, it can be converted to a [`LocalIterator`](https://docs.ray.io/en/latest/iter.html#ray.util.iter.LocalIterator) using two approaches.\n",
    "\n",
    "Calling [`gather_sync()`](https://docs.ray.io/en/latest/iter.html#ray.util.iter.ParallelIterator.gather_sync)\n",
    "returns a local iterable for *synchronous* iteration.\n",
    "In other words, next items will be fetched from the shards on-demand as the application steps through the iterator sequence."
   ]
  },
  {
   "cell_type": "code",
   "execution_count": 3,
   "metadata": {},
   "outputs": [
    {
     "data": {
      "text/plain": [
       "LocalIterator[ParallelIterator[from_items[int, 5, shards=2]].gather_sync()]"
      ]
     },
     "execution_count": 3,
     "metadata": {},
     "output_type": "execute_result"
    }
   ],
   "source": [
    "local_iter1 = iter1.gather_sync()\n",
    "local_iter1"
   ]
  },
  {
   "cell_type": "code",
   "execution_count": 4,
   "metadata": {},
   "outputs": [
    {
     "name": "stderr",
     "output_type": "stream",
     "text": [
      "ic| item: 1\n",
      "ic| item: 2\n",
      "ic| item: 3\n",
      "ic| item: 4\n",
      "ic| item: 5\n"
     ]
    }
   ],
   "source": [
    "for item in local_iter1:\n",
    "    ic(item)"
   ]
  },
  {
   "cell_type": "markdown",
   "metadata": {},
   "source": [
    "When applying a function to the sequence (i.e., some kind of transformation) a parallel iterator provides semantic guarantees for *fetch ordering*. In other words, the transformation is guaranteed to get applied to each element of the sequence before the next item is fetched from the source actor.\n",
    "For example, this can be useful if you need to update the source actor between iterator steps.\n",
    "\n",
    "To illustrate a simple case of how to apply a function, first we'll define a class to perform some calculation:"
   ]
  },
  {
   "cell_type": "code",
   "execution_count": 5,
   "metadata": {},
   "outputs": [],
   "source": [
    "class CumulativeSum:\n",
    "    def __init__ (self):\n",
    "        self.total = 0\n",
    "\n",
    "    def __call__ (self, x):\n",
    "        self.total += x\n",
    "        return (self.total, x)"
   ]
  },
  {
   "cell_type": "markdown",
   "metadata": {},
   "source": [
    "Now apply that class to the sequence of items, using the [`for_each()`](https://docs.ray.io/en/latest/iter.html#ray.util.iter.ParallelIterator.for_each) method:"
   ]
  },
  {
   "cell_type": "code",
   "execution_count": 6,
   "metadata": {},
   "outputs": [
    {
     "name": "stdout",
     "output_type": "stream",
     "text": [
      "(1, 1)\n",
      "(2, 2)\n",
      "(4, 3)\n",
      "(6, 4)\n",
      "(9, 5)\n"
     ]
    }
   ],
   "source": [
    "for x in iter1.for_each(CumulativeSum()).gather_sync():\n",
    "    print(x)"
   ]
  },
  {
   "cell_type": "markdown",
   "metadata": {},
   "source": [
    "Alternatively, calling [`gather_async()`](https://docs.ray.io/en/latest/iter.html#ray.util.iter.ParallelIterator.gather_async)\n",
    "returns a local iterable for *asynchronous* iteration.\n",
    "In other words, next items will be fetched from the shards asynchronously as soon as the previous item gets computed.\n",
    "In this case, the fetch ordering only applies per shard."
   ]
  },
  {
   "cell_type": "markdown",
   "metadata": {},
   "source": [
    "Another way to access a parallel iterator is as a collection of its shards:"
   ]
  },
  {
   "cell_type": "code",
   "execution_count": 7,
   "metadata": {},
   "outputs": [
    {
     "data": {
      "text/plain": [
       "[LocalIterator[from_items[int, 5, shards=2].shard[0]],\n",
       " LocalIterator[from_items[int, 5, shards=2].shard[1]]]"
      ]
     },
     "execution_count": 7,
     "metadata": {},
     "output_type": "execute_result"
    }
   ],
   "source": [
    "iter1.shards()"
   ]
  },
  {
   "cell_type": "code",
   "execution_count": 8,
   "metadata": {},
   "outputs": [
    {
     "name": "stderr",
     "output_type": "stream",
     "text": [
      "ic| shard: LocalIterator[from_items[int, 5, shards=2].shard[0]]\n",
      "ic| item: 1\n",
      "ic| item: 3\n",
      "ic| item: 5\n",
      "ic| shard: LocalIterator[from_items[int, 5, shards=2].shard[1]]\n",
      "ic| item: 2\n",
      "ic| item: 4\n"
     ]
    }
   ],
   "source": [
    "for shard in iter1.shards():\n",
    "    ic(shard)\n",
    "    \n",
    "    for item in shard:\n",
    "        ic(item)"
   ]
  },
  {
   "cell_type": "markdown",
   "metadata": {},
   "source": [
    "Note that each shard should only be read by one process at a time."
   ]
  },
  {
   "cell_type": "markdown",
   "metadata": {},
   "source": [
    "As an example, let's iterate through the JSON source for the Jupyter notebooks in this repo as if this were a streaming input source.\n",
    "\n",
    "We'll filter to get the text in markdown cells, evaluated in batches – which creates a sliding window across the input stream:"
   ]
  },
  {
   "cell_type": "code",
   "execution_count": 9,
   "metadata": {
    "scrolled": true
   },
   "outputs": [
    {
     "data": {
      "text/plain": [
       "ParallelIterator[from_items[PosixPath, 6, shards=3].for_each().for_each().flatten().for_each().flatten().for_each().batch(20).for_each()]"
      ]
     },
     "execution_count": 9,
     "metadata": {},
     "output_type": "execute_result"
    }
   ],
   "source": [
    "from pathlib import Path\n",
    "import numpy as np\n",
    "import json\n",
    "\n",
    "nb_items = list(Path(\".\").glob(\"ex_*.ipynb\"))\n",
    "window_width = 20\n",
    "\n",
    "iter2 = (\n",
    "    ray.util.iter.from_items(nb_items, num_shards=3)\n",
    "        .for_each(lambda f: json.load(open(f)))\n",
    "        .for_each(lambda nb: nb[\"cells\"])\n",
    "        .flatten()\n",
    "        .for_each(lambda cell: cell[\"source\"] if cell[\"cell_type\"] == \"markdown\" else [])\n",
    "        .flatten()\n",
    "        .for_each(lambda line: 1 if \"Ray\" in line else 0)\n",
    "        .batch(window_width)\n",
    "        .for_each(np.mean)\n",
    ")\n",
    "\n",
    "iter2"
   ]
  },
  {
   "cell_type": "markdown",
   "metadata": {},
   "source": [
    "Now calculate the probability of the term `Ray` occurring within the lines in each batch:"
   ]
  },
  {
   "cell_type": "code",
   "execution_count": 10,
   "metadata": {},
   "outputs": [
    {
     "name": "stderr",
     "output_type": "stream",
     "text": [
      "ic| freq: 0.2\n",
      "ic| freq: 0.2\n",
      "ic| freq: 0.2\n",
      "ic| freq: 0.2\n",
      "ic| freq: 0.05\n",
      "ic| freq: 0.09090909090909091\n",
      "ic| freq: 0.0\n",
      "ic| freq: 0.1\n",
      "ic| freq: 0.0\n"
     ]
    }
   ],
   "source": [
    "for freq in iter2.gather_async():\n",
    "    ic(freq)"
   ]
  },
  {
   "cell_type": "markdown",
   "metadata": {},
   "source": [
    "Let's rework this to show an example of passing iterator shards to remote functions.\n",
    "We'll define a remote function `nb_word_count` to tally *word count* among the markdown cells in each notebook:"
   ]
  },
  {
   "cell_type": "code",
   "execution_count": 11,
   "metadata": {},
   "outputs": [],
   "source": [
    "from collections import defaultdict\n",
    "\n",
    "@ray.remote\n",
    "def nb_word_count (shard):\n",
    "    wc = defaultdict(int)\n",
    "    punct = \"\"\"'`<>[](){}*.,:…-'\"\"\"\n",
    "    \n",
    "    for nb_path in shard:\n",
    "        with open(nb_path) as f:\n",
    "            nb = json.load(f)\n",
    "            for cell in nb[\"cells\"]:\n",
    "                if cell[\"cell_type\"] == \"markdown\":\n",
    "                    for line in cell[\"source\"]:\n",
    "                        for token in line.strip(\"# \").lower().split():\n",
    "                            token = token.strip(punct)\n",
    "                            wc[token] += 1\n",
    "\n",
    "    return wc"
   ]
  },
  {
   "cell_type": "markdown",
   "metadata": {},
   "source": [
    "Now pass each of the shards to a remote function:"
   ]
  },
  {
   "cell_type": "code",
   "execution_count": 12,
   "metadata": {
    "scrolled": true
   },
   "outputs": [],
   "source": [
    "nb_items = list(Path(\".\").glob(\"ex_*.ipynb\"))\n",
    "\n",
    "iter3 = ray.util.iter.from_items(nb_items, num_shards=3)\n",
    "\n",
    "work = [nb_word_count.remote(shard) for shard in iter3.shards()]"
   ]
  },
  {
   "cell_type": "markdown",
   "metadata": {},
   "source": [
    "To show the end results, we'll aggregate the word counts calculated from each shard:"
   ]
  },
  {
   "cell_type": "code",
   "execution_count": 13,
   "metadata": {},
   "outputs": [],
   "source": [
    "wc_sum = defaultdict(int)\n",
    "\n",
    "for wc in ray.get(work):\n",
    "    for token, count in wc.items():\n",
    "        wc_sum[token] += count"
   ]
  },
  {
   "cell_type": "markdown",
   "metadata": {},
   "source": [
    "Then list the tokens ranked in descending order:"
   ]
  },
  {
   "cell_type": "code",
   "execution_count": 14,
   "metadata": {
    "scrolled": true
   },
   "outputs": [
    {
     "name": "stderr",
     "output_type": "stream",
     "text": [
      "ic| token: 'a', count: 55\n",
      "ic| token: 'the', count: 54\n",
      "ic| token: 'to', count: 36\n",
      "ic| token: 'of', count: 23\n",
      "ic| token: 'ray', count: 21\n",
      "ic| token: 'remote', count: 21\n",
      "ic| token: 'this', count: 20\n",
      "ic| token: 'for', count: 19\n",
      "ic| token: 'in', count: 19\n",
      "ic| token: 'and', count: 15\n",
      "ic| token: 'parallel', count: 13\n",
      "ic| token: '', count: 12\n",
      "ic| token: 'example', count: 12\n",
      "ic| token: \"let's\", count: 11\n",
      "ic| token: 'function', count: 11\n",
      "ic| token: 'be', count: 11\n",
      "ic| token: \"we'll\", count: 10\n",
      "ic| token: 'first', count: 9\n",
      "ic| token: 'is', count: 9\n",
      "ic| token: 'on', count: 9\n",
      "ic| token: 'start', count: 8\n",
      "ic| token: 'shards', count: 8\n",
      "ic| token: 'an', count: 8\n",
      "ic| token: 'can', count: 8\n",
      "ic| token: 'from', count: 8\n",
      "ic| token: 'using', count: 8\n",
      "ic| token: 'use', count: 7\n",
      "ic| token: 'by', count: 7\n",
      "ic| token: 'data', count: 7\n",
      "ic| token: 'each', count: 7\n",
      "ic| token: 'items', count: 7\n",
      "ic| token: 'iterator', count: 7\n",
      "ic| token: 'object', count: 7\n",
      "ic| token: 'now', count: 7\n",
      "ic| token: 'as', count: 7\n",
      "ic| token: 'guided', count: 6\n",
      "ic| token: 'tour', count: 6\n",
      "ic| token: 'core', count: 6\n",
      "ic| token: 'python', count: 6\n",
      "ic| token: 'that', count: 6\n",
      "ic| token: 'set', count: 6\n",
      "ic| token: 'actor', count: 6\n",
      "ic| token: 'next', count: 6\n",
      "ic| token: 'sequence', count: 6\n",
      "ic| token: 'it', count: 5\n",
      "ic| token: 'actors', count: 5\n",
      "ic| token: 'iterators', count: 5\n",
      "ic| token: 'get', count: 5\n",
      "ic| token: 'will', count: 5\n",
      "ic| token: 'define', count: 5\n",
      "ic| token: 'class', count: 5\n",
      "ic| token: 'functions', count: 5\n",
      "ic| token: 'then', count: 5\n",
      "ic| token: 'up', count: 4\n",
      "ic| token: 'create', count: 4\n",
      "ic| token: 'are', count: 4\n",
      "ic| token: 'into', count: 4\n",
      "ic| token: 'shard', count: 4\n",
      "ic| token: 'i.e', count: 4\n",
      "ic| token: 'fetch', count: 4\n",
      "ic| token: 'with', count: 4\n",
      "ic| token: 'source', count: 4\n",
      "ic| token: 'decorator', count: 4\n",
      "ic| token: 'pool', count: 3\n",
      "ic| token: 'distributed', count: 3\n",
      "ic| token: 'regular', count: 3\n",
      "ic| token: 'tasks', count: 3\n",
      "ic| token: 'across', count: 3\n",
      "ic| token: 'method', count: 3\n",
      "ic| token: 'worker', count: 3\n",
      "ic| token: 'only', count: 3\n",
      "ic| token: 'when', count: 3\n",
      "ic| token: 'item', count: 3\n",
      "ic| token: 'cluster', count: 3\n",
      "ic| token: 'returns', count: 3\n",
      "ic| token: 'local', count: 3\n",
      "ic| token: 'iteration', count: 3\n",
      "ic| token: 'other', count: 3\n",
      "ic| token: 'words', count: 3\n",
      "ic| token: 'fetched', count: 3\n",
      "ic| token: 'through', count: 3\n",
      "ic| token: 'ordering', count: 3\n",
      "ic| token: 'illustrate', count: 3\n",
      "ic| token: 'which', count: 3\n",
      "ic| token: 'multiple', count: 3\n",
      "ic| token: 'trade-off', count: 3\n",
      "ic| token: 'joblib', count: 3\n",
      "ic| token: 'backend', count: 3\n",
      "ic| token: 'see', count: 3\n",
      "ic| token: '@ray.remote', count: 3\n",
      "ic| token: 'pattern', count: 3\n",
      "ic| token: 'references', count: 3\n",
      "ic| token: 'objects', count: 3\n",
      "ic| token: 'multiprocessing', count: 2\n",
      "ic| token: 'easy', count: 2\n",
      "ic| token: 'scale', count: 2\n",
      "ic| token: 'existing', count: 2\n",
      "ic| token: 'applications', count: 2\n",
      "ic| token: 'following', count: 2\n",
      "ic| token: 'just', count: 2\n",
      "ic| token: 'provide', count: 2\n",
      "ic| token: 'simple', count: 2\n",
      "ic| token: 'api', count: 2\n",
      "ic| token: 'stream', count: 2\n",
      "ic| token: 'processing', count: 2\n",
      "ic| token: 'transformations', count: 2\n",
      "ic| token: 'creates', count: 2\n",
      "ic| token: 'executed', count: 2\n",
      "ic| token: 'application', count: 2\n",
      "ic| token: 'calls', count: 2\n",
      "ic| token: 'so', count: 2\n",
      "ic| token: 'passed', count: 2\n",
      "ic| token: 'these', count: 2\n",
      "ic| token: 'sequences', count: 2\n",
      "ic| token: 'reference', count: 2\n",
      "ic| token: 'methods', count: 2\n",
      "ic| token: 'read', count: 2\n",
      "ic| token: 'calling', count: 2\n",
      "ic| token: 'iterable', count: 2\n",
      "ic| token: 'steps', count: 2\n",
      "ic| token: 'some', count: 2\n",
      "ic| token: 'transformation', count: 2\n",
      "ic| token: 'provides', count: 2\n",
      "ic| token: 'semantic', count: 2\n",
      "ic| token: 'guarantees', count: 2\n",
      "ic| token: 'if', count: 2\n",
      "ic| token: 'you', count: 2\n",
      "ic| token: 'case', count: 2\n",
      "ic| token: 'apply', count: 2\n",
      "ic| token: 'asynchronous', count: 2\n",
      "ic| token: 'gets', count: 2\n",
      "ic| token: 'access', count: 2\n",
      "ic| token: 'process', count: 2\n",
      "ic| token: 'iterate', count: 2\n",
      "ic| token: 'input', count: 2\n",
      "ic| token: 'markdown', count: 2\n",
      "ic| token: 'cells', count: 2\n",
      "ic| token: 'show', count: 2\n",
      "ic| token: 'passing', count: 2\n",
      "ic| token: 'word', count: 2\n",
      "ic| token: 'patterns', count: 2\n",
      "ic| token: 'compute', count: 2\n",
      "ic| token: 'memory', count: 2\n",
      "ic| token: 'requirements', count: 2\n",
      "ic| token: 'stateless', count: 2\n",
      "ic| token: 'stateful', count: 2\n",
      "ic| token: 'parallelize', count: 2\n",
      "ic| token: 'parallelized', count: 2\n",
      "ic| token: 'processes', count: 2\n",
      "ic| token: 'running', count: 2\n",
      "ic| token: 'hyper-parameter', count: 2\n",
      "ic| token: 'search', count: 2\n",
      "ic| token: 'hyper-parameters', count: 2\n",
      "ic| token: 'cross-validation', count: 2\n",
      "ic| token: 'iterations', count: 2\n",
      "ic| token: 'result', count: 2\n",
      "ic| token: 'involve', count: 2\n",
      "ic| token: 'implements', count: 2\n",
      "ic| token: 'task', count: 2\n",
      "ic| token: 'properties', count: 2\n",
      "ic| token: 'return', count: 2\n",
      "ic| token: 'classes', count: 2\n"
     ]
    }
   ],
   "source": [
    "for token, count in sorted(wc_sum.items(), key=lambda item: item[1], reverse=True):\n",
    "    if count > 1:\n",
    "        ic(token, count)"
   ]
  },
  {
   "cell_type": "markdown",
   "metadata": {},
   "source": [
    "---\n",
    "\n",
    "## Summary"
   ]
  },
  {
   "cell_type": "markdown",
   "metadata": {},
   "source": [
    "Parallel iterators provide a somewhat higher-level abstraction which uses Ray actors and `ray.wait` loops, and fit conveninently into efficient software patterns in Python.\n",
    "\n",
    "Engineering trade-offs are available a multiple levels:\n",
    "\n",
    "  * trade-off compute and memory requirements by partioning sequences of items into data shards\n",
    "  * trade-off compute and memory requirements for transformations on items by passing the data shards to remote functions (stateless) and remote methods (stateful)\n",
    "  * trade-off the semantic guarantees on fetch ordering by using asynchronous iteration"
   ]
  }
 ],
 "metadata": {
  "kernelspec": {
   "display_name": "Python 3",
   "language": "python",
   "name": "python3"
  },
  "language_info": {
   "codemirror_mode": {
    "name": "ipython",
    "version": 3
   },
   "file_extension": ".py",
   "mimetype": "text/x-python",
   "name": "python",
   "nbconvert_exporter": "python",
   "pygments_lexer": "ipython3",
   "version": "3.7.4"
  }
 },
 "nbformat": 4,
 "nbformat_minor": 4
}
