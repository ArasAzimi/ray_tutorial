{
 "cells": [
  {
   "cell_type": "markdown",
   "metadata": {},
   "source": [
    "# A Guided Tour of Ray Core"
   ]
  },
  {
   "cell_type": "code",
   "execution_count": 1,
   "metadata": {},
   "outputs": [
    {
     "name": "stderr",
     "output_type": "stream",
     "text": [
      "File descriptor limit 256 is too low for production servers and may result in connection errors. At least 8192 is recommended. --- Fix with 'ulimit -n 8192'\n"
     ]
    },
    {
     "data": {
      "text/plain": [
       "{'node_ip_address': '192.168.1.65',\n",
       " 'raylet_ip_address': '192.168.1.65',\n",
       " 'redis_address': '192.168.1.65:6379',\n",
       " 'object_store_address': '/tmp/ray/session_2021-02-23_16-10-04_997200_93999/sockets/plasma_store',\n",
       " 'raylet_socket_name': '/tmp/ray/session_2021-02-23_16-10-04_997200_93999/sockets/raylet',\n",
       " 'webui_url': '127.0.0.1:8265',\n",
       " 'session_dir': '/tmp/ray/session_2021-02-23_16-10-04_997200_93999',\n",
       " 'metrics_export_port': 56217,\n",
       " 'node_id': 'b6fa1741882fd380aec7d6b2b65ea1adffecf6c6'}"
      ]
     },
     "execution_count": 1,
     "metadata": {},
     "output_type": "execute_result"
    }
   ],
   "source": [
    "from icecream import ic\n",
    "import logging\n",
    "import ray\n",
    "\n",
    "ray.init(\n",
    "    ignore_reinit_error=True,\n",
    "    logging_level=logging.ERROR,\n",
    ")"
   ]
  },
  {
   "cell_type": "markdown",
   "metadata": {},
   "source": [
    "## JobLib"
   ]
  },
  {
   "cell_type": "markdown",
   "metadata": {},
   "source": [
    "Set up for this example..."
   ]
  },
  {
   "cell_type": "code",
   "execution_count": 2,
   "metadata": {},
   "outputs": [],
   "source": [
    "from ray.util.joblib import register_ray\n",
    "from sklearn.datasets import load_digits\n",
    "from sklearn.model_selection import RandomizedSearchCV\n",
    "from sklearn.svm import SVC\n",
    "import numpy as np\n",
    "import joblib"
   ]
  },
  {
   "cell_type": "markdown",
   "metadata": {},
   "source": [
    "First, let's register Ray as the parallelized [*joblib*](https://scikit-learn.org/stable/modules/generated/sklearn.utils.parallel_backend.html) backend for `scikit-learn`, using  Ray actors instead of local processes.\n",
    "This makes it easy to scale existing applications running on a single node to running on a cluster.\n",
    "\n",
    "See: <https://docs.ray.io/en/master/joblib.html>"
   ]
  },
  {
   "cell_type": "code",
   "execution_count": 3,
   "metadata": {},
   "outputs": [],
   "source": [
    "register_ray()"
   ]
  },
  {
   "cell_type": "markdown",
   "metadata": {},
   "source": [
    "Next, load a copy of the UCI machine learning data repository's hand-written *digits* dataset.\n",
    "See: <https://scikit-learn.org/stable/modules/generated/sklearn.datasets.load_digits.html>"
   ]
  },
  {
   "cell_type": "code",
   "execution_count": 4,
   "metadata": {},
   "outputs": [],
   "source": [
    "digits = load_digits()"
   ]
  },
  {
   "cell_type": "markdown",
   "metadata": {},
   "source": [
    "We'll define the hyper-parameter space for training a *support vector machines* model:"
   ]
  },
  {
   "cell_type": "code",
   "execution_count": 5,
   "metadata": {},
   "outputs": [],
   "source": [
    "param_space = {\n",
    "    \"C\": np.logspace(-6, 6, 30),\n",
    "    \"gamma\": np.logspace(-8, 8, 30),\n",
    "    \"tol\": np.logspace(-4, -1, 30),\n",
    "    \"class_weight\": [None, \"balanced\"],\n",
    "}\n",
    "\n",
    "model = SVC(kernel=\"rbf\")"
   ]
  },
  {
   "cell_type": "markdown",
   "metadata": {},
   "source": [
    "Then use a randomized search to optimize these hyper-parameters. See: <https://scikit-learn.org/stable/modules/generated/sklearn.model_selection.RandomizedSearchCV.html>\n",
    "\n",
    "We'll use 5 cross-validation splits and 10 iterations, which will result in a total of 50 \"fits\". This is enough to illustrate the `joblib` being parallelized, although in practice you'd probably use more iterations."
   ]
  },
  {
   "cell_type": "code",
   "execution_count": 6,
   "metadata": {},
   "outputs": [
    {
     "data": {
      "text/plain": [
       "RandomizedSearchCV(cv=5, error_score='raise-deprecating',\n",
       "          estimator=SVC(C=1.0, cache_size=200, class_weight=None, coef0=0.0,\n",
       "  decision_function_shape='ovr', degree=3, gamma='auto_deprecated',\n",
       "  kernel='rbf', max_iter=-1, probability=False, random_state=None,\n",
       "  shrinking=True, tol=0.001, verbose=False),\n",
       "          fit_params=None, iid='warn', n_iter=10, n_jobs=None,\n",
       "          param_distributions={'C': array([1.00000e-06, 2.59294e-06, 6.72336e-06, 1.74333e-05, 4.52035e-05,\n",
       "       1.17210e-04, 3.03920e-04, 7.88046e-04, 2.04336e-03, 5.29832e-03,\n",
       "       1.37382e-02, 3.56225e-02, 9.23671e-02, 2.39503e-01, 6.21017e-01,\n",
       "       1.61026e+00, 4.17532e+00, 1.08264e+01, 2.80722e+01,..., 0.03039, 0.03857, 0.04894, 0.0621 ,\n",
       "       0.0788 , 0.1    ]), 'class_weight': [None, 'balanced']},\n",
       "          pre_dispatch='2*n_jobs', random_state=None, refit=True,\n",
       "          return_train_score='warn', scoring=None, verbose=10)"
      ]
     },
     "execution_count": 6,
     "metadata": {},
     "output_type": "execute_result"
    }
   ],
   "source": [
    "clf = RandomizedSearchCV(model, param_space, cv=5, n_iter=10, verbose=10)\n",
    "clf"
   ]
  },
  {
   "cell_type": "markdown",
   "metadata": {},
   "source": [
    "Run the cross-validation fits (i.e., the random search for hyper-parameter optimization) using Ray to parallelize the backend processes:"
   ]
  },
  {
   "cell_type": "code",
   "execution_count": 7,
   "metadata": {
    "scrolled": true,
    "tags": []
   },
   "outputs": [
    {
     "name": "stdout",
     "output_type": "stream",
     "text": [
      "Fitting 5 folds for each of 10 candidates, totalling 50 fits\n",
      "[CV] tol=0.1, gamma=3.562247890262444e-08, class_weight=balanced, C=188.73918221350996 \n"
     ]
    },
    {
     "name": "stderr",
     "output_type": "stream",
     "text": [
      "[Parallel(n_jobs=1)]: Using backend SequentialBackend with 1 concurrent workers.\n"
     ]
    },
    {
     "name": "stdout",
     "output_type": "stream",
     "text": [
      "[CV]  tol=0.1, gamma=3.562247890262444e-08, class_weight=balanced, C=188.73918221350996, score=0.8873626373626373, total=   0.3s\n",
      "[CV] tol=0.1, gamma=3.562247890262444e-08, class_weight=balanced, C=188.73918221350996 \n"
     ]
    },
    {
     "name": "stderr",
     "output_type": "stream",
     "text": [
      "[Parallel(n_jobs=1)]: Done   1 out of   1 | elapsed:    0.5s remaining:    0.0s\n"
     ]
    },
    {
     "name": "stdout",
     "output_type": "stream",
     "text": [
      "[CV]  tol=0.1, gamma=3.562247890262444e-08, class_weight=balanced, C=188.73918221350996, score=0.8425414364640884, total=   0.3s\n",
      "[CV] tol=0.1, gamma=3.562247890262444e-08, class_weight=balanced, C=188.73918221350996 \n"
     ]
    },
    {
     "name": "stderr",
     "output_type": "stream",
     "text": [
      "[Parallel(n_jobs=1)]: Done   2 out of   2 | elapsed:    1.0s remaining:    0.0s\n"
     ]
    },
    {
     "name": "stdout",
     "output_type": "stream",
     "text": [
      "[CV]  tol=0.1, gamma=3.562247890262444e-08, class_weight=balanced, C=188.73918221350996, score=0.8746518105849582, total=   0.3s\n",
      "[CV] tol=0.1, gamma=3.562247890262444e-08, class_weight=balanced, C=188.73918221350996 \n"
     ]
    },
    {
     "name": "stderr",
     "output_type": "stream",
     "text": [
      "[Parallel(n_jobs=1)]: Done   3 out of   3 | elapsed:    1.5s remaining:    0.0s\n"
     ]
    },
    {
     "name": "stdout",
     "output_type": "stream",
     "text": [
      "[CV]  tol=0.1, gamma=3.562247890262444e-08, class_weight=balanced, C=188.73918221350996, score=0.9299719887955182, total=   0.3s\n",
      "[CV] tol=0.1, gamma=3.562247890262444e-08, class_weight=balanced, C=188.73918221350996 \n"
     ]
    },
    {
     "name": "stderr",
     "output_type": "stream",
     "text": [
      "[Parallel(n_jobs=1)]: Done   4 out of   4 | elapsed:    2.0s remaining:    0.0s\n"
     ]
    },
    {
     "name": "stdout",
     "output_type": "stream",
     "text": [
      "[CV]  tol=0.1, gamma=3.562247890262444e-08, class_weight=balanced, C=188.73918221350996, score=0.8422535211267606, total=   0.3s\n",
      "[CV] tol=0.00041753189365604, gamma=1e-08, class_weight=None, C=148735.21072935118 \n",
      "[CV]  tol=0.00041753189365604, gamma=1e-08, class_weight=None, C=148735.21072935118, score=0.9560439560439561, total=   0.1s\n",
      "[CV] tol=0.00041753189365604, gamma=1e-08, class_weight=None, C=148735.21072935118 \n",
      "[CV]  tol=0.00041753189365604, gamma=1e-08, class_weight=None, C=148735.21072935118, score=0.9116022099447514, total=   0.1s\n",
      "[CV] tol=0.00041753189365604, gamma=1e-08, class_weight=None, C=148735.21072935118 \n"
     ]
    },
    {
     "name": "stderr",
     "output_type": "stream",
     "text": [
      "[Parallel(n_jobs=1)]: Done   5 out of   5 | elapsed:    2.5s remaining:    0.0s\n",
      "[Parallel(n_jobs=1)]: Done   6 out of   6 | elapsed:    2.6s remaining:    0.0s\n",
      "[Parallel(n_jobs=1)]: Done   7 out of   7 | elapsed:    2.6s remaining:    0.0s\n"
     ]
    },
    {
     "name": "stdout",
     "output_type": "stream",
     "text": [
      "[CV]  tol=0.00041753189365604, gamma=1e-08, class_weight=None, C=148735.21072935118, score=0.9665738161559888, total=   0.1s\n",
      "[CV] tol=0.00041753189365604, gamma=1e-08, class_weight=None, C=148735.21072935118 \n",
      "[CV]  tol=0.00041753189365604, gamma=1e-08, class_weight=None, C=148735.21072935118, score=0.9803921568627451, total=   0.1s\n",
      "[CV] tol=0.00041753189365604, gamma=1e-08, class_weight=None, C=148735.21072935118 \n"
     ]
    },
    {
     "name": "stderr",
     "output_type": "stream",
     "text": [
      "[Parallel(n_jobs=1)]: Done   8 out of   8 | elapsed:    2.8s remaining:    0.0s\n",
      "[Parallel(n_jobs=1)]: Done   9 out of   9 | elapsed:    2.9s remaining:    0.0s\n"
     ]
    },
    {
     "name": "stdout",
     "output_type": "stream",
     "text": [
      "[CV]  tol=0.00041753189365604, gamma=1e-08, class_weight=None, C=148735.21072935118, score=0.9352112676056338, total=   0.1s\n",
      "[CV] tol=0.07880462815669913, gamma=0.0002592943797404667, class_weight=balanced, C=0.09236708571873865 \n",
      "[CV]  tol=0.07880462815669913, gamma=0.0002592943797404667, class_weight=balanced, C=0.09236708571873865, score=0.9175824175824175, total=   0.2s\n",
      "[CV] tol=0.07880462815669913, gamma=0.0002592943797404667, class_weight=balanced, C=0.09236708571873865 \n",
      "[CV]  tol=0.07880462815669913, gamma=0.0002592943797404667, class_weight=balanced, C=0.09236708571873865, score=0.8839779005524862, total=   0.2s\n",
      "[CV] tol=0.07880462815669913, gamma=0.0002592943797404667, class_weight=balanced, C=0.09236708571873865 \n",
      "[CV]  tol=0.07880462815669913, gamma=0.0002592943797404667, class_weight=balanced, C=0.09236708571873865, score=0.9220055710306406, total=   0.2s\n",
      "[CV] tol=0.07880462815669913, gamma=0.0002592943797404667, class_weight=balanced, C=0.09236708571873865 \n",
      "[CV]  tol=0.07880462815669913, gamma=0.0002592943797404667, class_weight=balanced, C=0.09236708571873865, score=0.9607843137254902, total=   0.2s\n",
      "[CV] tol=0.07880462815669913, gamma=0.0002592943797404667, class_weight=balanced, C=0.09236708571873865 \n",
      "[CV]  tol=0.07880462815669913, gamma=0.0002592943797404667, class_weight=balanced, C=0.09236708571873865, score=0.8788732394366198, total=   0.2s\n",
      "[CV] tol=0.1, gamma=100000000.0, class_weight=None, C=8531.678524172814 \n",
      "[CV]  tol=0.1, gamma=100000000.0, class_weight=None, C=8531.678524172814, score=0.10164835164835165, total=   0.3s\n",
      "[CV] tol=0.1, gamma=100000000.0, class_weight=None, C=8531.678524172814 \n",
      "[CV]  tol=0.1, gamma=100000000.0, class_weight=None, C=8531.678524172814, score=0.10220994475138122, total=   0.4s\n",
      "[CV] tol=0.1, gamma=100000000.0, class_weight=None, C=8531.678524172814 \n",
      "[CV]  tol=0.1, gamma=100000000.0, class_weight=None, C=8531.678524172814, score=0.10027855153203342, total=   0.3s\n",
      "[CV] tol=0.1, gamma=100000000.0, class_weight=None, C=8531.678524172814 \n",
      "[CV]  tol=0.1, gamma=100000000.0, class_weight=None, C=8531.678524172814, score=0.10084033613445378, total=   0.3s\n",
      "[CV] tol=0.1, gamma=100000000.0, class_weight=None, C=8531.678524172814 \n",
      "[CV]  tol=0.1, gamma=100000000.0, class_weight=None, C=8531.678524172814, score=0.10140845070422536, total=   0.3s\n",
      "[CV] tol=0.00016102620275609394, gamma=85.31678524172814, class_weight=None, C=0.09236708571873865 \n",
      "[CV]  tol=0.00016102620275609394, gamma=85.31678524172814, class_weight=None, C=0.09236708571873865, score=0.10164835164835165, total=   0.3s\n",
      "[CV] tol=0.00016102620275609394, gamma=85.31678524172814, class_weight=None, C=0.09236708571873865 \n",
      "[CV]  tol=0.00016102620275609394, gamma=85.31678524172814, class_weight=None, C=0.09236708571873865, score=0.10220994475138122, total=   0.3s\n",
      "[CV] tol=0.00016102620275609394, gamma=85.31678524172814, class_weight=None, C=0.09236708571873865 \n",
      "[CV]  tol=0.00016102620275609394, gamma=85.31678524172814, class_weight=None, C=0.09236708571873865, score=0.10027855153203342, total=   0.4s\n",
      "[CV] tol=0.00016102620275609394, gamma=85.31678524172814, class_weight=None, C=0.09236708571873865 \n",
      "[CV]  tol=0.00016102620275609394, gamma=85.31678524172814, class_weight=None, C=0.09236708571873865, score=0.10084033613445378, total=   0.3s\n",
      "[CV] tol=0.00016102620275609394, gamma=85.31678524172814, class_weight=None, C=0.09236708571873865 \n",
      "[CV]  tol=0.00016102620275609394, gamma=85.31678524172814, class_weight=None, C=0.09236708571873865, score=0.10140845070422536, total=   0.3s\n",
      "[CV] tol=0.00041753189365604, gamma=23.95026619987481, class_weight=None, C=0.013738237958832637 \n",
      "[CV]  tol=0.00041753189365604, gamma=23.95026619987481, class_weight=None, C=0.013738237958832637, score=0.10164835164835165, total=   0.3s\n",
      "[CV] tol=0.00041753189365604, gamma=23.95026619987481, class_weight=None, C=0.013738237958832637 \n",
      "[CV]  tol=0.00041753189365604, gamma=23.95026619987481, class_weight=None, C=0.013738237958832637, score=0.10220994475138122, total=   0.3s\n",
      "[CV] tol=0.00041753189365604, gamma=23.95026619987481, class_weight=None, C=0.013738237958832637 \n",
      "[CV]  tol=0.00041753189365604, gamma=23.95026619987481, class_weight=None, C=0.013738237958832637, score=0.10027855153203342, total=   0.3s\n",
      "[CV] tol=0.00041753189365604, gamma=23.95026619987481, class_weight=None, C=0.013738237958832637 \n",
      "[CV]  tol=0.00041753189365604, gamma=23.95026619987481, class_weight=None, C=0.013738237958832637, score=0.10084033613445378, total=   0.4s\n",
      "[CV] tol=0.00041753189365604, gamma=23.95026619987481, class_weight=None, C=0.013738237958832637 \n",
      "[CV]  tol=0.00041753189365604, gamma=23.95026619987481, class_weight=None, C=0.013738237958832637, score=0.10140845070422536, total=   0.3s\n",
      "[CV] tol=0.001082636733874054, gamma=85.31678524172814, class_weight=None, C=0.6210169418915616 \n",
      "[CV]  tol=0.001082636733874054, gamma=85.31678524172814, class_weight=None, C=0.6210169418915616, score=0.10164835164835165, total=   0.4s\n",
      "[CV] tol=0.001082636733874054, gamma=85.31678524172814, class_weight=None, C=0.6210169418915616 \n",
      "[CV]  tol=0.001082636733874054, gamma=85.31678524172814, class_weight=None, C=0.6210169418915616, score=0.10220994475138122, total=   0.3s\n",
      "[CV] tol=0.001082636733874054, gamma=85.31678524172814, class_weight=None, C=0.6210169418915616 \n",
      "[CV]  tol=0.001082636733874054, gamma=85.31678524172814, class_weight=None, C=0.6210169418915616, score=0.10027855153203342, total=   0.3s\n",
      "[CV] tol=0.001082636733874054, gamma=85.31678524172814, class_weight=None, C=0.6210169418915616 \n",
      "[CV]  tol=0.001082636733874054, gamma=85.31678524172814, class_weight=None, C=0.6210169418915616, score=0.10084033613445378, total=   0.3s\n",
      "[CV] tol=0.001082636733874054, gamma=85.31678524172814, class_weight=None, C=0.6210169418915616 \n",
      "[CV]  tol=0.001082636733874054, gamma=85.31678524172814, class_weight=None, C=0.6210169418915616, score=0.10140845070422536, total=   0.3s\n",
      "[CV] tol=0.0001268961003167922, gamma=4.5203536563602405e-07, class_weight=balanced, C=1000000.0 \n",
      "[CV]  tol=0.0001268961003167922, gamma=4.5203536563602405e-07, class_weight=balanced, C=1000000.0, score=0.9642857142857143, total=   0.1s\n",
      "[CV] tol=0.0001268961003167922, gamma=4.5203536563602405e-07, class_weight=balanced, C=1000000.0 \n",
      "[CV]  tol=0.0001268961003167922, gamma=4.5203536563602405e-07, class_weight=balanced, C=1000000.0, score=0.9226519337016574, total=   0.1s\n",
      "[CV] tol=0.0001268961003167922, gamma=4.5203536563602405e-07, class_weight=balanced, C=1000000.0 \n",
      "[CV]  tol=0.0001268961003167922, gamma=4.5203536563602405e-07, class_weight=balanced, C=1000000.0, score=0.9665738161559888, total=   0.1s\n",
      "[CV] tol=0.0001268961003167922, gamma=4.5203536563602405e-07, class_weight=balanced, C=1000000.0 \n",
      "[CV]  tol=0.0001268961003167922, gamma=4.5203536563602405e-07, class_weight=balanced, C=1000000.0, score=0.9635854341736695, total=   0.1s\n",
      "[CV] tol=0.0001268961003167922, gamma=4.5203536563602405e-07, class_weight=balanced, C=1000000.0 \n",
      "[CV]  tol=0.0001268961003167922, gamma=4.5203536563602405e-07, class_weight=balanced, C=1000000.0, score=0.9295774647887324, total=   0.1s\n",
      "[CV] tol=0.003562247890262444, gamma=0.011721022975334793, class_weight=balanced, C=0.013738237958832637 \n",
      "[CV]  tol=0.003562247890262444, gamma=0.011721022975334793, class_weight=balanced, C=0.013738237958832637, score=0.0989010989010989, total=   0.4s\n",
      "[CV] tol=0.003562247890262444, gamma=0.011721022975334793, class_weight=balanced, C=0.013738237958832637 \n",
      "[CV]  tol=0.003562247890262444, gamma=0.011721022975334793, class_weight=balanced, C=0.013738237958832637, score=0.09944751381215469, total=   0.4s\n",
      "[CV] tol=0.003562247890262444, gamma=0.011721022975334793, class_weight=balanced, C=0.013738237958832637 \n",
      "[CV]  tol=0.003562247890262444, gamma=0.011721022975334793, class_weight=balanced, C=0.013738237958832637, score=0.09749303621169916, total=   0.4s\n",
      "[CV] tol=0.003562247890262444, gamma=0.011721022975334793, class_weight=balanced, C=0.013738237958832637 \n",
      "[CV]  tol=0.003562247890262444, gamma=0.011721022975334793, class_weight=balanced, C=0.013738237958832637, score=0.11484593837535013, total=   0.4s\n",
      "[CV] tol=0.003562247890262444, gamma=0.011721022975334793, class_weight=balanced, C=0.013738237958832637 \n",
      "[CV]  tol=0.003562247890262444, gamma=0.011721022975334793, class_weight=balanced, C=0.013738237958832637, score=0.09577464788732394, total=   0.4s\n",
      "[CV] tol=0.00032903445623126676, gamma=48939.00918477499, class_weight=None, C=148735.21072935118 \n",
      "[CV]  tol=0.00032903445623126676, gamma=48939.00918477499, class_weight=None, C=148735.21072935118, score=0.10164835164835165, total=   0.4s\n",
      "[CV] tol=0.00032903445623126676, gamma=48939.00918477499, class_weight=None, C=148735.21072935118 \n",
      "[CV]  tol=0.00032903445623126676, gamma=48939.00918477499, class_weight=None, C=148735.21072935118, score=0.10220994475138122, total=   0.4s\n",
      "[CV] tol=0.00032903445623126676, gamma=48939.00918477499, class_weight=None, C=148735.21072935118 \n",
      "[CV]  tol=0.00032903445623126676, gamma=48939.00918477499, class_weight=None, C=148735.21072935118, score=0.10027855153203342, total=   0.3s\n",
      "[CV] tol=0.00032903445623126676, gamma=48939.00918477499, class_weight=None, C=148735.21072935118 \n",
      "[CV]  tol=0.00032903445623126676, gamma=48939.00918477499, class_weight=None, C=148735.21072935118, score=0.10084033613445378, total=   0.3s\n",
      "[CV] tol=0.00032903445623126676, gamma=48939.00918477499, class_weight=None, C=148735.21072935118 \n",
      "[CV]  tol=0.00032903445623126676, gamma=48939.00918477499, class_weight=None, C=148735.21072935118, score=0.10140845070422536, total=   0.3s\n"
     ]
    },
    {
     "name": "stderr",
     "output_type": "stream",
     "text": [
      "[Parallel(n_jobs=1)]: Done  50 out of  50 | elapsed:   20.1s finished\n"
     ]
    }
   ],
   "source": [
    "with joblib.parallel_backend(\"ray\"):\n",
    "    search = clf.fit(digits.data, digits.target)"
   ]
  },
  {
   "cell_type": "markdown",
   "metadata": {},
   "source": [
    "So far, what is the best set of hyper-parameters found?"
   ]
  },
  {
   "cell_type": "code",
   "execution_count": 8,
   "metadata": {},
   "outputs": [
    {
     "data": {
      "text/plain": [
       "{'tol': 0.00041753189365604,\n",
       " 'gamma': 1e-08,\n",
       " 'class_weight': None,\n",
       " 'C': 148735.21072935118}"
      ]
     },
     "execution_count": 8,
     "metadata": {},
     "output_type": "execute_result"
    }
   ],
   "source": [
    "search.best_params_"
   ]
  }
 ],
 "metadata": {
  "kernelspec": {
   "display_name": "Python 3",
   "language": "python",
   "name": "python3"
  },
  "language_info": {
   "codemirror_mode": {
    "name": "ipython",
    "version": 3
   },
   "file_extension": ".py",
   "mimetype": "text/x-python",
   "name": "python",
   "nbconvert_exporter": "python",
   "pygments_lexer": "ipython3",
   "version": "3.7.4"
  }
 },
 "nbformat": 4,
 "nbformat_minor": 4
}
